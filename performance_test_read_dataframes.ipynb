{
 "cells": [
  {
   "cell_type": "markdown",
   "metadata": {},
   "source": [
    "**Performance testing of reading dataframes using some Python libraries**\n",
    "\n",
    "Details of dataframe used for the test:\n",
    "- Size: <span style=\"color: red\">1,1 GB</span>\n",
    "- Rows Total: <span style=\"color: red\">5012957</span>\n",
    "- Columns Total: <span style=\"color: red\">19</span>"
   ]
  },
  {
   "cell_type": "markdown",
   "metadata": {},
   "source": [
    "## [Pandas](https://pandas.pydata.org/)"
   ]
  },
  {
   "cell_type": "code",
   "execution_count": 1,
   "metadata": {
    "ExecuteTime": {
     "end_time": "2020-09-17T13:46:28.045614Z",
     "start_time": "2020-09-17T13:46:24.299542Z"
    }
   },
   "outputs": [],
   "source": [
    "import pandas as pd"
   ]
  },
  {
   "cell_type": "code",
   "execution_count": 2,
   "metadata": {
    "ExecuteTime": {
     "end_time": "2020-09-17T13:50:15.423848Z",
     "start_time": "2020-09-17T13:46:32.021873Z"
    },
    "scrolled": true
   },
   "outputs": [
    {
     "name": "stdout",
     "output_type": "stream",
     "text": [
      "CPU times: user 16.6 s, sys: 5.51 s, total: 22.1 s\n",
      "Wall time: 3min 42s\n"
     ]
    }
   ],
   "source": [
    "%%time \n",
    "df = pd.read_csv(\"/home/juancaio/Downloads/697683_1432303_compressed_large_metro_areas_NYPD_Arrests_Data__Historic_.csv/NYPD_Arrests_Data__Historic_.csv\", low_memory=False)"
   ]
  },
  {
   "cell_type": "markdown",
   "metadata": {},
   "source": [
    "## [Modin](https://modin.readthedocs.io/en/latest/)"
   ]
  },
  {
   "cell_type": "code",
   "execution_count": 3,
   "metadata": {
    "ExecuteTime": {
     "end_time": "2020-09-17T13:51:00.304192Z",
     "start_time": "2020-09-17T13:50:33.249682Z"
    }
   },
   "outputs": [
    {
     "name": "stderr",
     "output_type": "stream",
     "text": [
      "UserWarning: The Dask Engine for Modin is experimental.\n"
     ]
    }
   ],
   "source": [
    "import modin.pandas as pd\n",
    "import os"
   ]
  },
  {
   "cell_type": "markdown",
   "metadata": {},
   "source": [
    "### Modin Engine = Ray"
   ]
  },
  {
   "cell_type": "code",
   "execution_count": 4,
   "metadata": {
    "ExecuteTime": {
     "end_time": "2020-09-17T13:53:01.402038Z",
     "start_time": "2020-09-17T13:51:03.130366Z"
    }
   },
   "outputs": [
    {
     "name": "stdout",
     "output_type": "stream",
     "text": [
      "CPU times: user 9.53 s, sys: 4.85 s, total: 14.4 s\n",
      "Wall time: 1min 58s\n"
     ]
    }
   ],
   "source": [
    "%%time\n",
    "os.environ[\"MODIN_ENGINE\"] = \"ray\"\n",
    "df = pd.read_csv(\"/home/juancaio/Downloads/697683_1432303_compressed_large_metro_areas_NYPD_Arrests_Data__Historic_.csv/NYPD_Arrests_Data__Historic_.csv\")"
   ]
  },
  {
   "cell_type": "markdown",
   "metadata": {},
   "source": [
    "### Modin Engine = Dask"
   ]
  },
  {
   "cell_type": "code",
   "execution_count": 5,
   "metadata": {
    "ExecuteTime": {
     "end_time": "2020-09-17T13:53:58.341190Z",
     "start_time": "2020-09-17T13:53:13.614521Z"
    }
   },
   "outputs": [
    {
     "name": "stdout",
     "output_type": "stream",
     "text": [
      "CPU times: user 5.75 s, sys: 3.09 s, total: 8.84 s\n",
      "Wall time: 44.7 s\n"
     ]
    }
   ],
   "source": [
    "%%time\n",
    "os.environ[\"MODIN_ENGINE\"] = \"dask\"\n",
    "df = pd.read_csv(\"/home/juancaio/Downloads/697683_1432303_compressed_large_metro_areas_NYPD_Arrests_Data__Historic_.csv/NYPD_Arrests_Data__Historic_.csv\")"
   ]
  },
  {
   "cell_type": "markdown",
   "metadata": {},
   "source": [
    "## [Vaex](https://vaex.readthedocs.io/en/latest/)"
   ]
  },
  {
   "cell_type": "code",
   "execution_count": 6,
   "metadata": {
    "ExecuteTime": {
     "end_time": "2020-09-17T13:55:24.042239Z",
     "start_time": "2020-09-17T13:54:06.076169Z"
    }
   },
   "outputs": [],
   "source": [
    "import vaex as vx"
   ]
  },
  {
   "cell_type": "code",
   "execution_count": 7,
   "metadata": {
    "ExecuteTime": {
     "end_time": "2020-09-17T14:00:44.528807Z",
     "start_time": "2020-09-17T13:58:13.672294Z"
    }
   },
   "outputs": [
    {
     "name": "stdout",
     "output_type": "stream",
     "text": [
      "CPU times: user 32.2 s, sys: 5.57 s, total: 37.8 s\n",
      "Wall time: 2min 30s\n"
     ]
    }
   ],
   "source": [
    "%%time\n",
    "df = vx.open(\"/home/juancaio/Downloads/697683_1432303_compressed_large_metro_areas_NYPD_Arrests_Data__Historic_.csv/NYPD_Arrests_Data__Historic_.csv\", low_memory=False)"
   ]
  },
  {
   "cell_type": "markdown",
   "metadata": {},
   "source": [
    "## [Dask](https://dask.org/)"
   ]
  },
  {
   "cell_type": "code",
   "execution_count": 8,
   "metadata": {
    "ExecuteTime": {
     "end_time": "2020-09-17T14:01:10.541842Z",
     "start_time": "2020-09-17T14:01:01.021004Z"
    }
   },
   "outputs": [],
   "source": [
    "import dask.dataframe as dd"
   ]
  },
  {
   "cell_type": "code",
   "execution_count": 9,
   "metadata": {
    "ExecuteTime": {
     "end_time": "2020-09-17T14:01:18.670734Z",
     "start_time": "2020-09-17T14:01:17.968277Z"
    },
    "scrolled": true
   },
   "outputs": [
    {
     "name": "stdout",
     "output_type": "stream",
     "text": [
      "CPU times: user 69.1 ms, sys: 7.7 ms, total: 76.7 ms\n",
      "Wall time: 676 ms\n"
     ]
    }
   ],
   "source": [
    "%%time\n",
    "df = dd.read_csv('/home/juancaio/Downloads/697683_1432303_compressed_large_metro_areas_NYPD_Arrests_Data__Historic_.csv/NYPD_Arrests_Data__Historic_.csv')"
   ]
  },
  {
   "cell_type": "markdown",
   "metadata": {},
   "source": [
    "## [Pyspark](https://spark.apache.org/docs/latest/api/python/index.html)"
   ]
  },
  {
   "cell_type": "code",
   "execution_count": 10,
   "metadata": {
    "ExecuteTime": {
     "end_time": "2020-09-17T14:01:50.393374Z",
     "start_time": "2020-09-17T14:01:50.390004Z"
    }
   },
   "outputs": [],
   "source": [
    "import pyspark"
   ]
  },
  {
   "cell_type": "code",
   "execution_count": 11,
   "metadata": {
    "ExecuteTime": {
     "end_time": "2020-09-17T14:03:09.020639Z",
     "start_time": "2020-09-17T14:01:58.499035Z"
    },
    "scrolled": true
   },
   "outputs": [
    {
     "name": "stdout",
     "output_type": "stream",
     "text": [
      "CPU times: user 4.64 s, sys: 525 ms, total: 5.17 s\n",
      "Wall time: 1min 10s\n"
     ]
    }
   ],
   "source": [
    "%%time\n",
    "df = spark.read.csv('/home/juancaio/Downloads/697683_1432303_compressed_large_metro_areas_NYPD_Arrests_Data__Historic_.csv/NYPD_Arrests_Data__Historic_.csv')"
   ]
  }
 ],
 "metadata": {
  "hide_input": false,
  "kernelspec": {
   "display_name": "Python 3",
   "language": "python",
   "name": "python3"
  },
  "language_info": {
   "codemirror_mode": {
    "name": "ipython",
    "version": 3
   },
   "file_extension": ".py",
   "mimetype": "text/x-python",
   "name": "python",
   "nbconvert_exporter": "python",
   "pygments_lexer": "ipython3",
   "version": "3.7.8"
  },
  "toc": {
   "base_numbering": 1,
   "nav_menu": {},
   "number_sections": true,
   "sideBar": true,
   "skip_h1_title": false,
   "title_cell": "Table of Contents",
   "title_sidebar": "Contents",
   "toc_cell": false,
   "toc_position": {},
   "toc_section_display": true,
   "toc_window_display": false
  }
 },
 "nbformat": 4,
 "nbformat_minor": 2
}
